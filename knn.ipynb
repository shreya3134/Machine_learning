{
 "cells": [
  {
   "cell_type": "code",
   "execution_count": 1,
   "id": "3b81c456-12e7-42cd-bfa7-2f85d745fa45",
   "metadata": {},
   "outputs": [
    {
     "name": "stdout",
     "output_type": "stream",
     "text": [
      "Requirement already satisfied: pandas in c:\\users\\swapnil\\anaconda3\\lib\\site-packages (2.1.4)\n",
      "Requirement already satisfied: numpy<2,>=1.23.2 in c:\\users\\swapnil\\anaconda3\\lib\\site-packages (from pandas) (1.26.4)\n",
      "Requirement already satisfied: python-dateutil>=2.8.2 in c:\\users\\swapnil\\anaconda3\\lib\\site-packages (from pandas) (2.8.2)\n",
      "Requirement already satisfied: pytz>=2020.1 in c:\\users\\swapnil\\anaconda3\\lib\\site-packages (from pandas) (2023.3.post1)\n",
      "Requirement already satisfied: tzdata>=2022.1 in c:\\users\\swapnil\\anaconda3\\lib\\site-packages (from pandas) (2023.3)\n",
      "Requirement already satisfied: six>=1.5 in c:\\users\\swapnil\\anaconda3\\lib\\site-packages (from python-dateutil>=2.8.2->pandas) (1.16.0)\n"
     ]
    }
   ],
   "source": [
    "!pip install pandas"
   ]
  },
  {
   "cell_type": "code",
   "execution_count": 2,
   "id": "fb9a2310-cae2-4ac9-9859-74573cea3fbd",
   "metadata": {},
   "outputs": [],
   "source": [
    "import pandas as pd\n",
    "import numpy as np\n",
    "import matplotlib.pyplot as plt\n",
    "import seaborn as sns"
   ]
  },
  {
   "cell_type": "code",
   "execution_count": 4,
   "id": "717cc4e9-9668-4ea1-9a23-849ca004fe05",
   "metadata": {},
   "outputs": [
    {
     "data": {
      "text/html": [
       "<div>\n",
       "<style scoped>\n",
       "    .dataframe tbody tr th:only-of-type {\n",
       "        vertical-align: middle;\n",
       "    }\n",
       "\n",
       "    .dataframe tbody tr th {\n",
       "        vertical-align: top;\n",
       "    }\n",
       "\n",
       "    .dataframe thead th {\n",
       "        text-align: right;\n",
       "    }\n",
       "</style>\n",
       "<table border=\"1\" class=\"dataframe\">\n",
       "  <thead>\n",
       "    <tr style=\"text-align: right;\">\n",
       "      <th></th>\n",
       "      <th>Sex</th>\n",
       "      <th>Year</th>\n",
       "      <th>Age group</th>\n",
       "      <th>Mean height</th>\n",
       "      <th>Mean height lower 95% uncertainty interval</th>\n",
       "      <th>Mean height upper 95% uncertainty interval</th>\n",
       "      <th>Mean height standard error</th>\n",
       "    </tr>\n",
       "  </thead>\n",
       "  <tbody>\n",
       "    <tr>\n",
       "      <th>0</th>\n",
       "      <td>Boys</td>\n",
       "      <td>1985</td>\n",
       "      <td>5</td>\n",
       "      <td>105.649052</td>\n",
       "      <td>105.159635</td>\n",
       "      <td>106.172846</td>\n",
       "      <td>0.258115</td>\n",
       "    </tr>\n",
       "    <tr>\n",
       "      <th>1</th>\n",
       "      <td>Boys</td>\n",
       "      <td>1985</td>\n",
       "      <td>6</td>\n",
       "      <td>111.635352</td>\n",
       "      <td>111.190655</td>\n",
       "      <td>112.078230</td>\n",
       "      <td>0.227526</td>\n",
       "    </tr>\n",
       "    <tr>\n",
       "      <th>2</th>\n",
       "      <td>Boys</td>\n",
       "      <td>1985</td>\n",
       "      <td>7</td>\n",
       "      <td>117.189491</td>\n",
       "      <td>116.778453</td>\n",
       "      <td>117.595601</td>\n",
       "      <td>0.210784</td>\n",
       "    </tr>\n",
       "    <tr>\n",
       "      <th>3</th>\n",
       "      <td>Boys</td>\n",
       "      <td>1985</td>\n",
       "      <td>8</td>\n",
       "      <td>122.438103</td>\n",
       "      <td>122.054426</td>\n",
       "      <td>122.825657</td>\n",
       "      <td>0.199455</td>\n",
       "    </tr>\n",
       "    <tr>\n",
       "      <th>4</th>\n",
       "      <td>Boys</td>\n",
       "      <td>1985</td>\n",
       "      <td>9</td>\n",
       "      <td>127.499794</td>\n",
       "      <td>127.131517</td>\n",
       "      <td>127.885537</td>\n",
       "      <td>0.194522</td>\n",
       "    </tr>\n",
       "  </tbody>\n",
       "</table>\n",
       "</div>"
      ],
      "text/plain": [
       "    Sex  Year  Age group  Mean height  \\\n",
       "0  Boys  1985          5   105.649052   \n",
       "1  Boys  1985          6   111.635352   \n",
       "2  Boys  1985          7   117.189491   \n",
       "3  Boys  1985          8   122.438103   \n",
       "4  Boys  1985          9   127.499794   \n",
       "\n",
       "   Mean height lower 95% uncertainty interval  \\\n",
       "0                                  105.159635   \n",
       "1                                  111.190655   \n",
       "2                                  116.778453   \n",
       "3                                  122.054426   \n",
       "4                                  127.131517   \n",
       "\n",
       "   Mean height upper 95% uncertainty interval  Mean height standard error  \n",
       "0                                  106.172846                    0.258115  \n",
       "1                                  112.078230                    0.227526  \n",
       "2                                  117.595601                    0.210784  \n",
       "3                                  122.825657                    0.199455  \n",
       "4                                  127.885537                    0.194522  "
      ]
     },
     "execution_count": 4,
     "metadata": {},
     "output_type": "execute_result"
    }
   ],
   "source": [
    "ht=pd.read_csv(\"height.csv\")\n",
    "ht.head()"
   ]
  },
  {
   "cell_type": "code",
   "execution_count": 12,
   "id": "525f7b5d-d734-4dde-a802-ada23dc9877f",
   "metadata": {},
   "outputs": [
    {
     "data": {
      "text/html": [
       "<div>\n",
       "<style scoped>\n",
       "    .dataframe tbody tr th:only-of-type {\n",
       "        vertical-align: middle;\n",
       "    }\n",
       "\n",
       "    .dataframe tbody tr th {\n",
       "        vertical-align: top;\n",
       "    }\n",
       "\n",
       "    .dataframe thead th {\n",
       "        text-align: right;\n",
       "    }\n",
       "</style>\n",
       "<table border=\"1\" class=\"dataframe\">\n",
       "  <thead>\n",
       "    <tr style=\"text-align: right;\">\n",
       "      <th></th>\n",
       "      <th>Age group</th>\n",
       "      <th>Mean height</th>\n",
       "    </tr>\n",
       "  </thead>\n",
       "  <tbody>\n",
       "    <tr>\n",
       "      <th>0</th>\n",
       "      <td>5</td>\n",
       "      <td>105.649052</td>\n",
       "    </tr>\n",
       "    <tr>\n",
       "      <th>1</th>\n",
       "      <td>6</td>\n",
       "      <td>111.635352</td>\n",
       "    </tr>\n",
       "    <tr>\n",
       "      <th>2</th>\n",
       "      <td>7</td>\n",
       "      <td>117.189491</td>\n",
       "    </tr>\n",
       "    <tr>\n",
       "      <th>3</th>\n",
       "      <td>8</td>\n",
       "      <td>122.438103</td>\n",
       "    </tr>\n",
       "    <tr>\n",
       "      <th>4</th>\n",
       "      <td>9</td>\n",
       "      <td>127.499794</td>\n",
       "    </tr>\n",
       "    <tr>\n",
       "      <th>...</th>\n",
       "      <td>...</td>\n",
       "      <td>...</td>\n",
       "    </tr>\n",
       "    <tr>\n",
       "      <th>1045</th>\n",
       "      <td>15</td>\n",
       "      <td>156.693073</td>\n",
       "    </tr>\n",
       "    <tr>\n",
       "      <th>1046</th>\n",
       "      <td>16</td>\n",
       "      <td>157.567922</td>\n",
       "    </tr>\n",
       "    <tr>\n",
       "      <th>1047</th>\n",
       "      <td>17</td>\n",
       "      <td>158.026195</td>\n",
       "    </tr>\n",
       "    <tr>\n",
       "      <th>1048</th>\n",
       "      <td>18</td>\n",
       "      <td>158.304538</td>\n",
       "    </tr>\n",
       "    <tr>\n",
       "      <th>1049</th>\n",
       "      <td>19</td>\n",
       "      <td>158.638269</td>\n",
       "    </tr>\n",
       "  </tbody>\n",
       "</table>\n",
       "<p>1050 rows × 2 columns</p>\n",
       "</div>"
      ],
      "text/plain": [
       "      Age group  Mean height\n",
       "0             5   105.649052\n",
       "1             6   111.635352\n",
       "2             7   117.189491\n",
       "3             8   122.438103\n",
       "4             9   127.499794\n",
       "...         ...          ...\n",
       "1045         15   156.693073\n",
       "1046         16   157.567922\n",
       "1047         17   158.026195\n",
       "1048         18   158.304538\n",
       "1049         19   158.638269\n",
       "\n",
       "[1050 rows x 2 columns]"
      ]
     },
     "execution_count": 12,
     "metadata": {},
     "output_type": "execute_result"
    }
   ],
   "source": [
    "XT=ht.drop(['Sex','Year','Mean height lower 95% uncertainty interval','Mean height upper 95% uncertainty interval','Mean height standard error'],axis=1)\n",
    "XT"
   ]
  },
  {
   "cell_type": "code",
   "execution_count": 13,
   "id": "c3369a21-96ff-4f85-9ee5-e0806e2ac48d",
   "metadata": {},
   "outputs": [
    {
     "data": {
      "text/plain": [
       "array([[ 5],\n",
       "       [ 6],\n",
       "       [ 7],\n",
       "       ...,\n",
       "       [17],\n",
       "       [18],\n",
       "       [19]], dtype=int64)"
      ]
     },
     "execution_count": 13,
     "metadata": {},
     "output_type": "execute_result"
    }
   ],
   "source": [
    "X=XT.iloc[:,:-1].values\n",
    "X"
   ]
  },
  {
   "cell_type": "code",
   "execution_count": 14,
   "id": "cd6b101d-ad2a-4ec2-9174-3694a09732b7",
   "metadata": {},
   "outputs": [
    {
     "data": {
      "text/plain": [
       "array([105.64905191, 111.63535228, 117.18949082, ..., 158.02619479,\n",
       "       158.30453766, 158.63826892])"
      ]
     },
     "execution_count": 14,
     "metadata": {},
     "output_type": "execute_result"
    }
   ],
   "source": [
    "y=XT.iloc[:,-1].values\n",
    "y"
   ]
  },
  {
   "cell_type": "code",
   "execution_count": 16,
   "id": "c66148ea-9994-4eee-b713-626227258b39",
   "metadata": {},
   "outputs": [],
   "source": [
    "from sklearn.model_selection import train_test_split\n",
    "X_train,X_test,y_train,y_test=train_test_split(X,y,test_size=0.20, random_state=0)"
   ]
  },
  {
   "cell_type": "code",
   "execution_count": 17,
   "id": "1c14bc9e-c327-4781-a06e-fc1a2f4127da",
   "metadata": {},
   "outputs": [
    {
     "data": {
      "text/plain": [
       "840"
      ]
     },
     "execution_count": 17,
     "metadata": {},
     "output_type": "execute_result"
    }
   ],
   "source": [
    "len(X_train)"
   ]
  },
  {
   "cell_type": "code",
   "execution_count": 18,
   "id": "51a53e68-e607-4fd2-bd0c-6cb8411b8ac6",
   "metadata": {},
   "outputs": [
    {
     "data": {
      "text/plain": [
       "210"
      ]
     },
     "execution_count": 18,
     "metadata": {},
     "output_type": "execute_result"
    }
   ],
   "source": [
    "len(X_test)"
   ]
  },
  {
   "cell_type": "code",
   "execution_count": 36,
   "id": "5ba5b6cc-7731-476e-9cb8-e101935a4f08",
   "metadata": {},
   "outputs": [],
   "source": [
    "from sklearn.neighbors import KNeighborsRegressor\n",
    "rf=KNeighborsRegressor(p=5,n_neighbors=5)\n",
    "rf.fit(X_train,y_train)\n",
    "pred=rf.predict(X_test)"
   ]
  },
  {
   "cell_type": "code",
   "execution_count": 37,
   "id": "2e402943-2d6c-4164-8ca6-c3934c996bdf",
   "metadata": {},
   "outputs": [
    {
     "data": {
      "text/plain": [
       "array([151.43935005, 160.06323419, 162.06382064, 124.19977167,\n",
       "       113.10057573, 159.13366451, 113.10057573, 166.43840917,\n",
       "       146.58023615, 107.5725937 , 160.06323419, 134.03501672,\n",
       "       139.982787  , 134.03501672, 124.19977167, 139.982787  ,\n",
       "       128.86343261, 159.13366451, 166.43840917, 151.43935005,\n",
       "       159.13366451, 146.58023615, 134.03501672, 160.50723738,\n",
       "       134.03501672, 157.31397346, 166.43840917, 157.31397346,\n",
       "       107.5725937 , 157.31397346, 166.43840917, 157.31397346,\n",
       "       119.13082452, 166.43840917, 113.10057573, 107.5725937 ,\n",
       "       113.10057573, 166.43840917, 166.43840917, 119.13082452,\n",
       "       113.10057573, 124.19977167, 166.43840917, 160.06323419,\n",
       "       151.43935005, 160.50723738, 124.19977167, 162.06382064,\n",
       "       159.13366451, 119.13082452, 151.43935005, 162.06382064,\n",
       "       160.50723738, 107.5725937 , 166.43840917, 124.19977167,\n",
       "       166.43840917, 107.5725937 , 113.10057573, 107.5725937 ,\n",
       "       119.13082452, 107.5725937 , 119.13082452, 134.03501672,\n",
       "       151.43935005, 146.58023615, 146.58023615, 160.50723738,\n",
       "       107.5725937 , 119.13082452, 146.58023615, 146.58023615,\n",
       "       146.58023615, 128.86343261, 157.31397346, 160.50723738,\n",
       "       113.10057573, 162.06382064, 134.03501672, 107.5725937 ,\n",
       "       113.10057573, 134.03501672, 119.13082452, 146.58023615,\n",
       "       128.86343261, 160.50723738, 160.50723738, 151.43935005,\n",
       "       151.43935005, 151.43935005, 151.43935005, 151.43935005,\n",
       "       113.10057573, 157.31397346, 159.13366451, 128.86343261,\n",
       "       134.03501672, 124.19977167, 119.13082452, 113.10057573,\n",
       "       107.5725937 , 160.50723738, 160.06323419, 113.10057573,\n",
       "       124.19977167, 113.10057573, 128.86343261, 134.03501672,\n",
       "       157.31397346, 151.43935005, 146.58023615, 166.43840917,\n",
       "       113.10057573, 119.13082452, 119.13082452, 166.43840917,\n",
       "       119.13082452, 160.50723738, 160.06323419, 128.86343261,\n",
       "       162.06382064, 124.19977167, 139.982787  , 159.13366451,\n",
       "       113.10057573, 119.13082452, 159.13366451, 113.10057573,\n",
       "       119.13082452, 151.43935005, 160.50723738, 160.06323419,\n",
       "       159.13366451, 162.06382064, 124.19977167, 128.86343261,\n",
       "       113.10057573, 162.06382064, 146.58023615, 128.86343261,\n",
       "       107.5725937 , 146.58023615, 139.982787  , 134.03501672,\n",
       "       160.06323419, 107.5725937 , 146.58023615, 160.06323419,\n",
       "       119.13082452, 160.50723738, 134.03501672, 124.19977167,\n",
       "       160.06323419, 162.06382064, 160.50723738, 162.06382064,\n",
       "       159.13366451, 124.19977167, 162.06382064, 162.06382064,\n",
       "       107.5725937 , 166.43840917, 162.06382064, 128.86343261,\n",
       "       119.13082452, 128.86343261, 162.06382064, 159.13366451,\n",
       "       160.06323419, 119.13082452, 157.31397346, 124.19977167,\n",
       "       151.43935005, 159.13366451, 128.86343261, 119.13082452,\n",
       "       151.43935005, 159.13366451, 113.10057573, 160.06323419,\n",
       "       128.86343261, 166.43840917, 139.982787  , 146.58023615,\n",
       "       139.982787  , 146.58023615, 159.13366451, 139.982787  ,\n",
       "       160.06323419, 157.31397346, 128.86343261, 166.43840917,\n",
       "       107.5725937 , 139.982787  , 134.03501672, 113.10057573,\n",
       "       157.31397346, 162.06382064, 166.43840917, 157.31397346,\n",
       "       113.10057573, 128.86343261, 134.03501672, 157.31397346,\n",
       "       166.43840917, 134.03501672, 160.06323419, 128.86343261,\n",
       "       124.19977167, 146.58023615])"
      ]
     },
     "execution_count": 37,
     "metadata": {},
     "output_type": "execute_result"
    }
   ],
   "source": [
    "pred"
   ]
  },
  {
   "cell_type": "code",
   "execution_count": 38,
   "id": "8f52d9e8-6a9e-41e6-b954-3b5d55e16140",
   "metadata": {},
   "outputs": [
    {
     "data": {
      "text/plain": [
       "array([150.28385789, 155.3656501 , 156.83711064, 123.20843936,\n",
       "       115.55002202, 166.08565517, 111.75049199, 156.04759001,\n",
       "       146.01898987, 109.61789808, 165.55801049, 136.91758879,\n",
       "       138.14502136, 135.1727165 , 122.81709127, 140.72518535,\n",
       "       129.48256799, 155.98142088, 156.301172  , 150.85050629,\n",
       "       155.9368717 , 146.33955502, 134.54300093, 154.39353394,\n",
       "       134.98010915, 154.20617024, 168.34723511, 157.99503824,\n",
       "       106.74968094, 152.93662019, 156.02979019, 154.75724956,\n",
       "       117.02814127, 157.22655511, 111.63535228, 105.94629943,\n",
       "       114.9509202 , 156.35016638, 157.58196095, 120.76740355,\n",
       "       113.72727511, 122.59054345, 168.73412621, 167.07681491,\n",
       "       150.43308916, 154.30939725, 122.46589983, 168.03358716,\n",
       "       167.82433031, 117.74046308, 150.08767193, 157.87092885,\n",
       "       164.41947646, 107.26508596, 167.56551408, 124.69713103,\n",
       "       157.41427112, 105.75889049, 111.67961171, 108.14517792,\n",
       "       118.68343292, 107.10613916, 117.637021  , 133.43162326,\n",
       "       151.4313333 , 144.26107961, 145.17035968, 155.70704387,\n",
       "       105.70895487, 118.56075595, 143.94575178, 145.61742919,\n",
       "       145.37078162, 128.86831264, 155.13918172, 154.39879769,\n",
       "       111.486208  , 168.96513068, 136.08387121, 105.82697375,\n",
       "       115.39811998, 135.41129638, 117.5408018 , 143.7724979 ,\n",
       "       128.26401163, 161.6610846 , 161.7583471 , 152.11700042,\n",
       "       151.88600761, 150.75834797, 151.54938463, 152.64222389,\n",
       "       112.75853462, 159.2952934 , 155.90006433, 129.05126982,\n",
       "       134.1786575 , 125.06599274, 117.47028508, 114.46941353,\n",
       "       107.00208992, 155.95868214, 156.04655271, 112.18333334,\n",
       "       125.90830848, 112.75284237, 128.42917286, 134.07157017,\n",
       "       153.12555115, 149.79344755, 146.4733975 , 158.30453766,\n",
       "       113.99458506, 120.52912855, 117.6845372 , 156.10977924,\n",
       "       118.82639207, 155.02777185, 167.28248272, 128.88028145,\n",
       "       157.45906768, 124.17308651, 142.86642621, 156.05892813,\n",
       "       112.65320363, 117.18949082, 167.91091838, 115.29535649,\n",
       "       120.1972779 , 149.82071875, 161.83966071, 166.83544173,\n",
       "       158.02619479, 158.12869189, 123.85624059, 128.76796226,\n",
       "       112.54362972, 169.27041173, 147.82434568, 128.48545243,\n",
       "       109.25876943, 146.8386994 , 139.39018567, 133.96830848,\n",
       "       156.84773872, 107.30947459, 145.84432894, 165.91193765,\n",
       "       117.30492799, 154.19706678, 132.78723977, 125.56421106,\n",
       "       155.94433557, 156.63936399, 154.39988412, 157.68631044,\n",
       "       167.32456212, 125.40222971, 157.25302433, 156.53968502,\n",
       "       105.88313599, 157.66188781, 170.13699835, 128.14206657,\n",
       "       120.03514929, 128.09166033, 156.67768702, 166.66557943,\n",
       "       165.09696516, 118.07694075, 157.5468124 , 125.48069175,\n",
       "       150.35826584, 167.01498897, 130.70684069, 119.16008991,\n",
       "       150.39950799, 155.70630428, 113.6290974 , 164.68016455,\n",
       "       129.63620354, 157.75054316, 140.20741496, 147.08133239,\n",
       "       138.94709558, 145.02506894, 166.93683483, 140.30863876,\n",
       "       155.35660416, 156.85801645, 127.54640704, 168.11155658,\n",
       "       105.76915104, 140.35319535, 135.52711018, 113.45959388,\n",
       "       157.69042521, 157.18535077, 168.25851238, 157.62002469,\n",
       "       114.15440556, 127.85159329, 134.00039178, 153.19628077,\n",
       "       156.45130328, 135.78540323, 156.53509954, 129.56537651,\n",
       "       122.50643829, 146.56145602])"
      ]
     },
     "execution_count": 38,
     "metadata": {},
     "output_type": "execute_result"
    }
   ],
   "source": [
    "y_test"
   ]
  },
  {
   "cell_type": "code",
   "execution_count": 39,
   "id": "a1bcb6b6-3f5b-422d-a969-0667976ff6f0",
   "metadata": {},
   "outputs": [
    {
     "data": {
      "text/plain": [
       "0.9619707805230602"
      ]
     },
     "execution_count": 39,
     "metadata": {},
     "output_type": "execute_result"
    }
   ],
   "source": [
    "rf.score(X_test,y_test)"
   ]
  },
  {
   "cell_type": "code",
   "execution_count": 40,
   "id": "5a1ff141-4274-494d-87bb-7ff69ad0a4ff",
   "metadata": {},
   "outputs": [
    {
     "name": "stderr",
     "output_type": "stream",
     "text": [
      "C:\\Users\\swapnil\\AppData\\Local\\Temp\\ipykernel_11724\\3819427663.py:1: DeprecationWarning: Conversion of an array with ndim > 0 to a scalar is deprecated, and will error in future. Ensure you extract a single element from your array before performing this operation. (Deprecated NumPy 1.25.)\n",
      "  X_val = np.arange(min(X_train),max(X_train),0.01)\n"
     ]
    },
    {
     "data": {
      "image/png": "[encoded data removed]",
      "text/plain": [
       "<Figure size 640x480 with 1 Axes>"
      ]
     },
     "metadata": {},
     "output_type": "display_data"
    },
    {
     "data": {
      "text/plain": [
       "<Figure size 640x480 with 0 Axes>"
      ]
     },
     "metadata": {},
     "output_type": "display_data"
    }
   ],
   "source": [
    "X_val = np.arange(min(X_train),max(X_train),0.01)\n",
    "X_val= X_val.reshape((len(X_val),1))\n",
    "plt.scatter(X_train,y_train,color='blue')\n",
    "plt.plot(X_val, rf.predict(X_val),color='purple')\n",
    "plt.title(\"Height Prediction using KNN\")\n",
    "plt.xlabel(\"Age\")\n",
    "plt.ylabel(\"Height\")\n",
    "plt.figure()\n",
    "plt.show()"
   ]
  },
  {
   "cell_type": "code",
   "execution_count": 41,
   "id": "2fbe7e04-d5ff-4b87-b4a8-f0f6359cf91b",
   "metadata": {},
   "outputs": [
    {
     "name": "stdout",
     "output_type": "stream",
     "text": [
      "Root mean square : 3.761849470046792\n",
      "R2score: 96.19707805230601\n"
     ]
    }
   ],
   "source": [
    "ypred=rf.predict(X_test)\n",
    "\n",
    "from sklearn.metrics import r2_score,mean_squared_error\n",
    "mse=mean_squared_error(y_test,ypred)\n",
    "rmse=np.sqrt(mse)\n",
    "print(\"Root mean square :\",rmse)\n",
    "r2_score=r2_score(y_test,ypred)\n",
    "print(\"R2score:\",r2_score*100)"
   ]
  },
  {
   "cell_type": "code",
   "execution_count": null,
   "id": "92b6744a-5452-4ff9-a965-a0934e3b9049",
   "metadata": {},
   "outputs": [],
   "source": []
  }
 ],
 "metadata": {
  "kernelspec": {
   "display_name": "Python 3 (ipykernel)",
   "language": "python",
   "name": "python3"
  },
  "language_info": {
   "codemirror_mode": {
    "name": "ipython",
    "version": 3
   },
   "file_extension": ".py",
   "mimetype": "text/x-python",
   "name": "python",
   "nbconvert_exporter": "python",
   "pygments_lexer": "ipython3",
   "version": "3.11.7"
  }
 },
 "nbformat": 4,
 "nbformat_minor": 5
}
